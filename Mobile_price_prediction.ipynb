{
 "cells": [
  {
   "cell_type": "markdown",
   "id": "3e1182a0",
   "metadata": {},
   "source": [
    "# Mobile price prediction\n"
   ]
  },
  {
   "cell_type": "code",
   "execution_count": 4,
   "id": "d54d12b0",
   "metadata": {},
   "outputs": [],
   "source": [
    "import numpy as np\n",
    "import pandas as pd\n",
    "import matplotlib.pyplot as plt"
   ]
  },
  {
   "cell_type": "code",
   "execution_count": 7,
   "id": "a828334b",
   "metadata": {},
   "outputs": [],
   "source": [
    "#Creating data frame of mobile specifications using pandas in various websites\n",
    "mobile = {\n",
    "    \"Brand\" : [\"Oneplus7\",\"Apple iphone7\",\"Realme7\",\"Oppo Reno7\",\"Xiaomi Redmi7\",\"Samsung Galaxy S7\"],\n",
    "    \"RAM\" : [6,2,6,8,2,4],\n",
    "    \"ROM\" : [128,128,64,256,32,32],\n",
    "    \"Front_Camera\" : [16,7,16,32,8,5],\n",
    "    \"Rear_Camera\" : [48,12,64,64,12,12],\n",
    "    \"Battery\" : [3700,1960,5000,4500,4000,3000],\n",
    "    \"Price\" : [30000,26000,18000,26000,8444,46000]\n",
    "}\n"
   ]
  },
  {
   "cell_type": "code",
   "execution_count": 8,
   "id": "978a1340",
   "metadata": {},
   "outputs": [],
   "source": [
    "df = pd.DataFrame(mobile)"
   ]
  },
  {
   "cell_type": "code",
   "execution_count": 9,
   "id": "53b382f5",
   "metadata": {},
   "outputs": [
    {
     "data": {
      "text/html": [
       "<div>\n",
       "<style scoped>\n",
       "    .dataframe tbody tr th:only-of-type {\n",
       "        vertical-align: middle;\n",
       "    }\n",
       "\n",
       "    .dataframe tbody tr th {\n",
       "        vertical-align: top;\n",
       "    }\n",
       "\n",
       "    .dataframe thead th {\n",
       "        text-align: right;\n",
       "    }\n",
       "</style>\n",
       "<table border=\"1\" class=\"dataframe\">\n",
       "  <thead>\n",
       "    <tr style=\"text-align: right;\">\n",
       "      <th></th>\n",
       "      <th>Brand</th>\n",
       "      <th>RAM</th>\n",
       "      <th>ROM</th>\n",
       "      <th>Front_Camera</th>\n",
       "      <th>Rear_Camera</th>\n",
       "      <th>Battery</th>\n",
       "      <th>Price</th>\n",
       "    </tr>\n",
       "  </thead>\n",
       "  <tbody>\n",
       "    <tr>\n",
       "      <th>0</th>\n",
       "      <td>Oneplus7</td>\n",
       "      <td>6</td>\n",
       "      <td>128</td>\n",
       "      <td>16</td>\n",
       "      <td>48</td>\n",
       "      <td>3700</td>\n",
       "      <td>30000</td>\n",
       "    </tr>\n",
       "    <tr>\n",
       "      <th>1</th>\n",
       "      <td>Apple iphone7</td>\n",
       "      <td>2</td>\n",
       "      <td>128</td>\n",
       "      <td>7</td>\n",
       "      <td>12</td>\n",
       "      <td>1960</td>\n",
       "      <td>26000</td>\n",
       "    </tr>\n",
       "    <tr>\n",
       "      <th>2</th>\n",
       "      <td>Realme7</td>\n",
       "      <td>6</td>\n",
       "      <td>64</td>\n",
       "      <td>16</td>\n",
       "      <td>64</td>\n",
       "      <td>5000</td>\n",
       "      <td>18000</td>\n",
       "    </tr>\n",
       "    <tr>\n",
       "      <th>3</th>\n",
       "      <td>Oppo Reno7</td>\n",
       "      <td>8</td>\n",
       "      <td>256</td>\n",
       "      <td>32</td>\n",
       "      <td>64</td>\n",
       "      <td>4500</td>\n",
       "      <td>26000</td>\n",
       "    </tr>\n",
       "    <tr>\n",
       "      <th>4</th>\n",
       "      <td>Xiaomi Redmi7</td>\n",
       "      <td>2</td>\n",
       "      <td>32</td>\n",
       "      <td>8</td>\n",
       "      <td>12</td>\n",
       "      <td>4000</td>\n",
       "      <td>8444</td>\n",
       "    </tr>\n",
       "    <tr>\n",
       "      <th>5</th>\n",
       "      <td>Samsung Galaxy S7</td>\n",
       "      <td>4</td>\n",
       "      <td>32</td>\n",
       "      <td>5</td>\n",
       "      <td>12</td>\n",
       "      <td>3000</td>\n",
       "      <td>46000</td>\n",
       "    </tr>\n",
       "  </tbody>\n",
       "</table>\n",
       "</div>"
      ],
      "text/plain": [
       "               Brand  RAM  ROM  Front_Camera  Rear_Camera  Battery  Price\n",
       "0           Oneplus7    6  128            16           48     3700  30000\n",
       "1      Apple iphone7    2  128             7           12     1960  26000\n",
       "2            Realme7    6   64            16           64     5000  18000\n",
       "3         Oppo Reno7    8  256            32           64     4500  26000\n",
       "4      Xiaomi Redmi7    2   32             8           12     4000   8444\n",
       "5  Samsung Galaxy S7    4   32             5           12     3000  46000"
      ]
     },
     "execution_count": 9,
     "metadata": {},
     "output_type": "execute_result"
    }
   ],
   "source": [
    "df"
   ]
  },
  {
   "cell_type": "code",
   "execution_count": null,
   "id": "aa977574",
   "metadata": {},
   "outputs": [],
   "source": []
  }
 ],
 "metadata": {
  "kernelspec": {
   "display_name": "Python 3",
   "language": "python",
   "name": "python3"
  },
  "language_info": {
   "codemirror_mode": {
    "name": "ipython",
    "version": 3
   },
   "file_extension": ".py",
   "mimetype": "text/x-python",
   "name": "python",
   "nbconvert_exporter": "python",
   "pygments_lexer": "ipython3",
   "version": "3.8.8"
  }
 },
 "nbformat": 4,
 "nbformat_minor": 5
}
